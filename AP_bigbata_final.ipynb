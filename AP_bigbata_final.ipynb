{
  "cells": [
    {
      "cell_type": "markdown",
      "metadata": {
        "id": "view-in-github",
        "colab_type": "text"
      },
      "source": [
        "<a href=\"https://colab.research.google.com/github/ivanDourado/Pyspark_analise_de_sentimentos_projeto/blob/main/AP_bigbata_final.ipynb\" target=\"_parent\"><img src=\"https://colab.research.google.com/assets/colab-badge.svg\" alt=\"Open In Colab\"/></a>"
      ]
    },
    {
      "cell_type": "code",
      "execution_count": null,
      "metadata": {
        "colab": {
          "base_uri": "https://localhost:8080/"
        },
        "id": "zzsQMv53sxh-",
        "outputId": "4981012b-6a72-48e5-ec41-ccc075139402"
      },
      "outputs": [
        {
          "output_type": "stream",
          "name": "stdout",
          "text": [
            "Drive already mounted at /content/drive; to attempt to forcibly remount, call drive.mount(\"/content/drive\", force_remount=True).\n"
          ]
        }
      ],
      "source": [
        "RU = 3357756\n",
        "# add arquivo no colab\n",
        "from google.colab import drive\n",
        "drive.mount('/content/drive')\n"
      ]
    },
    {
      "cell_type": "code",
      "execution_count": null,
      "metadata": {
        "colab": {
          "base_uri": "https://localhost:8080/"
        },
        "id": "zsroZ324cKQi",
        "outputId": "f055519b-fe02-4377-87f7-9462b1e35c22"
      },
      "outputs": [
        {
          "output_type": "stream",
          "name": "stdout",
          "text": [
            "--2024-01-02 20:55:22--  https://dlcdn.apache.org/spark/spark-3.4.2/spark-3.4.2-bin-hadoop3.tgz\n",
            "Resolving dlcdn.apache.org (dlcdn.apache.org)... 151.101.2.132, 2a04:4e42::644\n",
            "Connecting to dlcdn.apache.org (dlcdn.apache.org)|151.101.2.132|:443... connected.\n",
            "HTTP request sent, awaiting response... 200 OK\n",
            "Length: 388664780 (371M) [application/x-gzip]\n",
            "Saving to: ‘spark-3.4.2-bin-hadoop3.tgz’\n",
            "\n",
            "spark-3.4.2-bin-had 100%[===================>] 370.66M  70.7MB/s    in 5.9s    \n",
            "\n",
            "2024-01-02 20:55:32 (62.6 MB/s) - ‘spark-3.4.2-bin-hadoop3.tgz’ saved [388664780/388664780]\n",
            "\n",
            "drive  imdb-reviews-pt-br.csv  sample_data  spark-3.4.2-bin-hadoop3  spark-3.4.2-bin-hadoop3.tgz\n"
          ]
        }
      ],
      "source": [
        "# Remover cópias anteriores do arquivo Spark\n",
        "!rm -f spark-3.4.2-bin-hadoop*.tgz*\n",
        "\n",
        "# Baixar Spark\n",
        "!wget https://dlcdn.apache.org/spark/spark-3.4.2/spark-3.4.2-bin-hadoop3.tgz\n",
        "\n",
        "# Listar arquivos para verificar se o Spark foi baixado\n",
        "!ls\n",
        "\n",
        "# Extrair o Spark, se o arquivo estiver presente\n",
        "!tar xf spark-3.4.2-bin-hadoop3.tgz || echo \"O arquivo não foi baixado corretamente.\"\n",
        "\n",
        "# Configurar as variáveis de ambiente para o Spark e Java\n",
        "import os\n",
        "os.environ[\"JAVA_HOME\"] = \"/usr/lib/jvm/java-8-openjdk-amd64\"\n",
        "os.environ[\"SPARK_HOME\"] = \"/content/spark-3.4.2-bin-hadoop3\"\n"
      ]
    },
    {
      "cell_type": "code",
      "execution_count": null,
      "metadata": {
        "colab": {
          "base_uri": "https://localhost:8080/"
        },
        "id": "_cyzdRByfLoH",
        "outputId": "928d13a9-9928-422b-9e96-80a8e09b589f"
      },
      "outputs": [
        {
          "output_type": "stream",
          "name": "stdout",
          "text": [
            "total 503664\n",
            "drwx------  5 root root      4096 Jan  2 17:29 drive\n",
            "-rw-r--r--  1 root root 127066935 Jan  2 20:54 imdb-reviews-pt-br.csv\n",
            "drwxr-xr-x  1 root root      4096 Dec 19 14:20 sample_data\n",
            "drwxr-xr-x 13 1000 1000      4096 Nov 25 07:48 spark-3.4.2-bin-hadoop3\n",
            "-rw-r--r--  1 root root 388664780 Nov 25 07:49 spark-3.4.2-bin-hadoop3.tgz\n"
          ]
        }
      ],
      "source": [
        "# Listar o conteúdo do diretório para verificar a presença da pasta do Spark\n",
        "!ls -l\n"
      ]
    },
    {
      "cell_type": "code",
      "execution_count": null,
      "metadata": {
        "id": "PVfsFhzzwG5J"
      },
      "outputs": [],
      "source": [
        "# Instalar Java 8\n",
        "!apt-get install openjdk-8-jdk-headless -qq > /dev/null\n",
        "\n"
      ]
    },
    {
      "cell_type": "code",
      "execution_count": null,
      "metadata": {
        "colab": {
          "base_uri": "https://localhost:8080/"
        },
        "id": "t5seFcGCu4IH",
        "outputId": "c9e253b3-29fd-48ac-c52a-a8134cd68773"
      },
      "outputs": [
        {
          "output_type": "stream",
          "name": "stdout",
          "text": [
            "Requirement already satisfied: pyspark in /usr/local/lib/python3.10/dist-packages (3.5.0)\n",
            "Requirement already satisfied: py4j==0.10.9.7 in /usr/local/lib/python3.10/dist-packages (from pyspark) (0.10.9.7)\n"
          ]
        }
      ],
      "source": [
        "# instalar pyspark\n",
        "!pip install pyspark\n"
      ]
    },
    {
      "cell_type": "code",
      "execution_count": null,
      "metadata": {
        "id": "X8e9wtBoPUjG"
      },
      "outputs": [],
      "source": [
        "\n",
        "#import findspark\n",
        "#findspark.init()\n",
        "\n",
        "from pyspark.sql import SparkSession\n",
        "\n",
        "# Iniciar uma SparkSession\n",
        "spark = SparkSession.builder\\\n",
        "        .master(\"local[*]\")\\\n",
        "        .appName(\"Colab_Spark_Session\")\\\n",
        "        .getOrCreate()\n"
      ]
    },
    {
      "cell_type": "code",
      "execution_count": null,
      "metadata": {
        "id": "Cnc6KG6ESOxS"
      },
      "outputs": [],
      "source": [
        "#criando cópia do dataframe na pasta drive\n",
        "#!cp /content/drive/MyDrive/ciencia_de_dados_Uninter/AP-bigdata/imdb-reviews-pt-br.csv /content"
      ]
    },
    {
      "cell_type": "markdown",
      "metadata": {
        "id": "Fng5ZNrBhD_R"
      },
      "source": [
        "## Pratica 01 - Somatório de IDs.\n",
        "Qual o valor da soma de todos os campos “id” dos filmes classificados como negativos para o banco de dados “imdb-reviews-pt-br.csv”"
      ]
    },
    {
      "cell_type": "code",
      "execution_count": null,
      "metadata": {
        "colab": {
          "base_uri": "https://localhost:8080/"
        },
        "id": "Y47an7YzSd0J",
        "outputId": "09d7bc11-2955-4c4d-e5a3-9f6acca59fba"
      },
      "outputs": [
        {
          "output_type": "stream",
          "name": "stdout",
          "text": [
            "+---+--------------------+--------------------+---------+\n",
            "| id|             text_en|             text_pt|sentiment|\n",
            "+---+--------------------+--------------------+---------+\n",
            "|  1|Once again Mr. Co...|Mais uma vez, o S...|      neg|\n",
            "|  2|This is an exampl...|Este é um exemplo...|      neg|\n",
            "|  3|First of all I ha...|Primeiro de tudo ...|      neg|\n",
            "|  4|Not even the Beat...|Nem mesmo os Beat...|      neg|\n",
            "|  5|Brass pictures mo...|Filmes de fotos d...|      neg|\n",
            "|  6|A funny thing hap...|Uma coisa engraça...|      neg|\n",
            "|  7|This German horro...|Este filme de ter...|      neg|\n",
            "|  8|Being a long-time...|Sendo um fã de lo...|      neg|\n",
            "|  9|\"Tokyo Eyes\" tell...|\"Tokyo Eyes\" fala...|      neg|\n",
            "| 10|Wealthy horse ran...|Fazendeiros ricos...|      neg|\n",
            "| 11|Cage plays a drun...|Cage interpreta u...|      neg|\n",
            "| 12|First of all, I w...|Primeiro de tudo,...|      neg|\n",
            "| 13|So tell me - what...|Então me diga - q...|      neg|\n",
            "| 14|A big disappointm...|Uma grande decepç...|      neg|\n",
            "| 15|This film is abso...|Este filme é abso...|      neg|\n",
            "| 16|Heres a decidedly...|Heres um decidida...|      neg|\n",
            "| 17|At the bottom end...|Na parte inferior...|      neg|\n",
            "| 18|Earth has been de...|A terra foi destr...|      neg|\n",
            "| 19|Many people are s...|Muitas pessoas es...|      neg|\n",
            "| 20|New York family i...|A família de Nova...|      neg|\n",
            "+---+--------------------+--------------------+---------+\n",
            "only showing top 20 rows\n",
            "\n"
          ]
        }
      ],
      "source": [
        "# carregando o conjunto de dados\n",
        "\n",
        "df= spark.read.csv(\n",
        "    \"/content/imdb-reviews-pt-br.csv\",\n",
        "    header=True, quote=\"\\\"\",\n",
        "    escape=\"\\\"\", encoding=\"UTF-8\"\n",
        "    )\n",
        "\n",
        "#Mostrando as 20 primiras linhas\n",
        "df.show()"
      ]
    },
    {
      "cell_type": "code",
      "execution_count": null,
      "metadata": {
        "colab": {
          "base_uri": "https://localhost:8080/"
        },
        "id": "OIS8GkG3xXVW",
        "outputId": "1fdb9f80-304f-4d59-9ec9-f349388af2b8"
      },
      "outputs": [
        {
          "output_type": "execute_result",
          "data": {
            "text/plain": [
              "[Row(id='49459', text_en='A Christmas Together actually came before my time, but Ive been raised on John Denver and the songs from this special were always my familys Christmas music. For years we had a crackling cassette made from a record that meant it was Christmas. A few years ago, I was finally able to track down a video of it on Ebay, so after listening to all the music for some 21 years, I got to see John and the Muppets in action for myself. If you ever get the chance, its a lot of fun--great music, heart-warming and cheesy. Its also interesting to see the 70s versions of the Muppets and compare them to their newer versions today. I believe Denver actually took some heat for doing a show like this--I guess normally performers dont compromise their images by doing sing-a-longs with the Muppets, but Im glad he did. Even if you cant track down the video, the soundtrack is worth it too. It has some Muppified traditional favorites, but also some original Denver tunes as well.', text_pt='A Christmas Together realmente veio antes do meu tempo, mas eu fui criado em John Denver e as músicas deste especial sempre foram músicas de Natal da minha família. Durante anos, tivemos uma fita cassete feita de um disco que significava que era Natal. Alguns anos atrás, eu finalmente consegui encontrar um vídeo dele no Ebay, então depois de ouvir toda a música por 21 anos, eu pude ver John e os Muppets em ação para mim. Se você já teve a chance, é muito divertido - boa música, comovente e brega. Também é interessante ver as versões dos Muppets dos anos 70 e compará-las com suas versões mais recentes hoje. Eu acredito que o Denver realmente teve um pouco de calor para fazer um show como este - eu acho que normalmente os artistas não comprometem suas imagens fazendo sing-a-longs com os Muppets, mas estou feliz que ele tenha feito isso. Mesmo que você não consiga rastrear o vídeo, a trilha sonora também vale a pena. Tem alguns favoritos tradicionais Muppified, mas também algumas músicas originais de Denver também.', sentiment='pos'),\n",
              " Row(id='49460', text_en='Working-class romantic drama from director Martin Ritt is as unbelievable as they come, yet there are moments of pleasure due mostly to the charisma of stars Jane Fonda and Robert De Niro both terrific. Shes a widow who cant move on, hes illiterate and a closet-inventor--you can probably guess the rest. Adaptation of Pat Barkers novel \"Union Street\" a better title! is so laid-back it verges on bland, and the films editing is a mess, but its still pleasant; a rosy-hued blue-collar fantasy. There are no overtures to serious issues even the illiteracy angle is just a plot-tool for the ensuing love story and no real fireworks, though the characters are intentionally a bit colorless and the leads are toned down to an interesting degree. The finale is pure fluff--and cynics will find it difficult to swallow--though these two characters deserve a happy ending and the picture wouldnt really be satisfying any other way.  from', text_pt='O drama romântico da classe trabalhadora do diretor Martin Ritt é tão inacreditável quanto eles são, mas há momentos de prazer devido principalmente ao carisma das estrelas Jane Fonda e Robert De Niro, ambos ótimos. Ela é uma viúva que não pode seguir em frente, é analfabeta e é uma inventora de armários - provavelmente você pode adivinhar o resto. Adaptação do romance de Pat Barkers \"Union Street\" um título melhor! é tão descontraído que beirar sem graça, e a edição de filmes é uma bagunça, mas ainda é agradável; uma fantasia de colarinho azul em tons rosados. Não há aberturas para questões sérias, mesmo o ângulo do analfabetismo é apenas uma ferramenta de enredo para a história de amor que se segue e não há fogos de artifício reais, embora os personagens sejam intencionalmente um pouco incolores e as derivações reduzidas a um nível interessante. O final é puro fluff - e os cínicos acharão difícil de engolir - embora esses dois personagens mereçam um final feliz e a foto não seria realmente satisfatória de outra maneira. a partir de', sentiment='pos')]"
            ]
          },
          "metadata": {},
          "execution_count": 47
        }
      ],
      "source": []
    },
    {
      "cell_type": "code",
      "execution_count": null,
      "metadata": {
        "colab": {
          "base_uri": "https://localhost:8080/"
        },
        "id": "pIeY_tOdTScz",
        "outputId": "5a4af453-c3e2-452f-937d-f5b50c127f6b"
      },
      "outputs": [
        {
          "output_type": "stream",
          "name": "stdout",
          "text": [
            "root\n",
            " |-- id: string (nullable = true)\n",
            " |-- text_en: string (nullable = true)\n",
            " |-- text_pt: string (nullable = true)\n",
            " |-- sentiment: string (nullable = true)\n",
            "\n"
          ]
        }
      ],
      "source": [
        "# print do shema\n",
        "df.printSchema()"
      ]
    },
    {
      "cell_type": "markdown",
      "metadata": {
        "id": "IB0wYk_3i6NI"
      },
      "source": [
        "É preciso tratar a coluna ID pois essa é do tipo string. E é necessário convertê-la para INT de moo a efetuar operações matemáticas."
      ]
    },
    {
      "cell_type": "code",
      "execution_count": null,
      "metadata": {
        "colab": {
          "base_uri": "https://localhost:8080/"
        },
        "id": "8telgw3XjI7s",
        "outputId": "a880e003-6f7b-4378-a8e5-883b08205b60"
      },
      "outputs": [
        {
          "output_type": "execute_result",
          "data": {
            "text/plain": [
              "pyspark.sql.dataframe.DataFrame"
            ]
          },
          "metadata": {},
          "execution_count": 49
        }
      ],
      "source": [
        "#confirmando tipo do dataframe\n",
        "type(df)"
      ]
    },
    {
      "cell_type": "code",
      "execution_count": null,
      "metadata": {
        "colab": {
          "base_uri": "https://localhost:8080/"
        },
        "id": "hip5NwcgjS7V",
        "outputId": "c972de64-3bb5-4e8b-8e8d-e1730aed9e48"
      },
      "outputs": [
        {
          "output_type": "stream",
          "name": "stdout",
          "text": [
            "O número de linhas do dataframe é de 49459 linhas.\n"
          ]
        }
      ],
      "source": [
        "# contando as linhas do conjunto de dados\n",
        "\n",
        "print(f'O número de linhas do dataframe é de {df.count()} linhas.')\n"
      ]
    },
    {
      "cell_type": "code",
      "execution_count": null,
      "metadata": {
        "colab": {
          "base_uri": "https://localhost:8080/"
        },
        "id": "9BBkZhpLtILc",
        "outputId": "78d3f0c0-2997-4c50-8372-33a4a7b896f8"
      },
      "outputs": [
        {
          "output_type": "execute_result",
          "data": {
            "text/plain": [
              "DataFrame[summary: string, id: string, text_en: string, text_pt: string, sentiment: string]"
            ]
          },
          "metadata": {},
          "execution_count": 51
        }
      ],
      "source": [
        "df.describe()"
      ]
    },
    {
      "cell_type": "code",
      "execution_count": null,
      "metadata": {
        "id": "kURNEjPBtKfT",
        "colab": {
          "base_uri": "https://localhost:8080/"
        },
        "outputId": "20e9f3c3-0fce-42d9-a033-a1baafc9d4a9"
      },
      "outputs": [
        {
          "output_type": "stream",
          "name": "stdout",
          "text": [
            "root\n",
            " |-- id: integer (nullable = true)\n",
            "\n"
          ]
        }
      ],
      "source": [
        "# importando métodos com funções com fito de converter variáveis\n",
        "from pyspark.sql.functions import  *\n",
        "\n",
        "# convertendo coluna ID de string para INT\n",
        "df= df.withColumn(\n",
        "    colName='id',\n",
        "    col=regexp_replace('id','','').cast('int')\n",
        ")\n",
        "\n",
        "# printando o resultado\n",
        "df.select('id').printSchema()\n",
        "\n"
      ]
    },
    {
      "cell_type": "code",
      "source": [
        "# criando dataframe apenas com as colunas sentiment e ID\n",
        "df_select = df.select('id','sentiment')\n",
        "\n",
        "# Mostrando o resultado\n",
        "df_select.show()\n",
        "\n",
        "df_select.count()"
      ],
      "metadata": {
        "colab": {
          "base_uri": "https://localhost:8080/"
        },
        "id": "6HJ_PeU6ATVp",
        "outputId": "9d15ec22-ec49-4424-e24e-29f7dcc3a8bb"
      },
      "execution_count": null,
      "outputs": [
        {
          "output_type": "stream",
          "name": "stdout",
          "text": [
            "+---+---------+\n",
            "| id|sentiment|\n",
            "+---+---------+\n",
            "|  1|      neg|\n",
            "|  2|      neg|\n",
            "|  3|      neg|\n",
            "|  4|      neg|\n",
            "|  5|      neg|\n",
            "|  6|      neg|\n",
            "|  7|      neg|\n",
            "|  8|      neg|\n",
            "|  9|      neg|\n",
            "| 10|      neg|\n",
            "| 11|      neg|\n",
            "| 12|      neg|\n",
            "| 13|      neg|\n",
            "| 14|      neg|\n",
            "| 15|      neg|\n",
            "| 16|      neg|\n",
            "| 17|      neg|\n",
            "| 18|      neg|\n",
            "| 19|      neg|\n",
            "| 20|      neg|\n",
            "+---+---------+\n",
            "only showing top 20 rows\n",
            "\n"
          ]
        },
        {
          "output_type": "execute_result",
          "data": {
            "text/plain": [
              "49459"
            ]
          },
          "metadata": {},
          "execution_count": 53
        }
      ]
    },
    {
      "cell_type": "code",
      "source": [
        "# Criando DF somente com os valores da colun 'sentiment' = 'neg'\n",
        "df_neg= df_select.where('sentiment == \"neg\"').orderBy('id')\n",
        "\n",
        "#exibindo resultado\n",
        "print(f'Acima, 20 primeiras linhas do dataframe com comentarios classificados como negativos.')\n",
        "df_neg.show()\n",
        "df_neg.count()\n"
      ],
      "metadata": {
        "colab": {
          "base_uri": "https://localhost:8080/"
        },
        "id": "8Q-DqvV6BB8u",
        "outputId": "9ef26859-0462-4904-ee59-bdc0f2620712"
      },
      "execution_count": null,
      "outputs": [
        {
          "output_type": "stream",
          "name": "stdout",
          "text": [
            "Acima, 20 primeiras linhas do dataframe com comentarios classificados como negativos.\n",
            "+---+---------+\n",
            "| id|sentiment|\n",
            "+---+---------+\n",
            "|  1|      neg|\n",
            "|  2|      neg|\n",
            "|  3|      neg|\n",
            "|  4|      neg|\n",
            "|  5|      neg|\n",
            "|  6|      neg|\n",
            "|  7|      neg|\n",
            "|  8|      neg|\n",
            "|  9|      neg|\n",
            "| 10|      neg|\n",
            "| 11|      neg|\n",
            "| 12|      neg|\n",
            "| 13|      neg|\n",
            "| 14|      neg|\n",
            "| 15|      neg|\n",
            "| 16|      neg|\n",
            "| 17|      neg|\n",
            "| 18|      neg|\n",
            "| 19|      neg|\n",
            "| 20|      neg|\n",
            "+---+---------+\n",
            "only showing top 20 rows\n",
            "\n"
          ]
        },
        {
          "output_type": "execute_result",
          "data": {
            "text/plain": [
              "24765"
            ]
          },
          "metadata": {},
          "execution_count": 54
        }
      ]
    },
    {
      "cell_type": "code",
      "source": [
        "# Somatório dos valores da coluna ID cujos valores da coluna sentiment == neg\n",
        "\n",
        "total_neg = df_neg.groupBy('sentiment').agg(sum('id').alias(\"Total_Somatório_Neg\")).orderBy('sentiment').where('sentiment ==\"neg\"')\n",
        "\n",
        "total_neg.show()\n",
        "\n",
        "total_neg.count()"
      ],
      "metadata": {
        "colab": {
          "base_uri": "https://localhost:8080/"
        },
        "id": "Zix43IFLBzvJ",
        "outputId": "2c90b433-580e-47f7-bc64-637259d3ce5f"
      },
      "execution_count": null,
      "outputs": [
        {
          "output_type": "stream",
          "name": "stdout",
          "text": [
            "+---------+-------------------+\n",
            "|sentiment|Total_Somatório_Neg|\n",
            "+---------+-------------------+\n",
            "|      neg|          459568555|\n",
            "+---------+-------------------+\n",
            "\n"
          ]
        },
        {
          "output_type": "execute_result",
          "data": {
            "text/plain": [
              "1"
            ]
          },
          "metadata": {},
          "execution_count": 55
        }
      ]
    },
    {
      "cell_type": "code",
      "source": [
        "# printando resultado\n",
        "RU = 3357756\n",
        "soma_neg = total_neg.select(col(\"Total_Somatório_Neg\")).first()[0]\n",
        "\n",
        "print(f'Valor do somatório dos IDs negativos é de {soma_neg}.\\nRU do aluno:{RU}')"
      ],
      "metadata": {
        "colab": {
          "base_uri": "https://localhost:8080/"
        },
        "id": "XDrabFYNF3iJ",
        "outputId": "7e9da544-3526-4ac0-ac28-e4bf6d474fa8"
      },
      "execution_count": null,
      "outputs": [
        {
          "output_type": "stream",
          "name": "stdout",
          "text": [
            "Valor do somatório dos IDs negativos é de 459568555.\n",
            "RU do aluno:3357756\n"
          ]
        }
      ]
    },
    {
      "cell_type": "markdown",
      "source": [
        "### Valor do somatório dos IDs negativos é de 459568555.\n",
        "\n",
        "\n",
        "\n"
      ],
      "metadata": {
        "id": "1nMkRTtEN7sf"
      }
    },
    {
      "cell_type": "markdown",
      "source": [
        "---------------------------------------------------\n",
        "#Prática 02 - Diferença do número de palavras totais de português para inglês dos textos negativos\n",
        "\n",
        "\n",
        "Contar palavras dos textos negativos e achar diferença de quantidade."
      ],
      "metadata": {
        "id": "_TMEH1dNN-VZ"
      }
    },
    {
      "cell_type": "code",
      "source": [
        "# selecionando uma coluna pra cada idioma\n",
        "RU = 3357756\n",
        "\n",
        "df_en = df.select('id','text_en','sentiment')\n",
        "df_pt = df.select('id','text_pt','sentiment')"
      ],
      "metadata": {
        "id": "c37syrqgN3UE"
      },
      "execution_count": null,
      "outputs": []
    },
    {
      "cell_type": "code",
      "source": [
        "# filtrando o conjunto de dados para o sentiment = neg\n",
        "\n",
        "df_en = df_en.where('sentiment == \"neg\"')\n",
        "df_pt = df_pt.where('sentiment == \"neg\"')\n",
        "\n",
        "#removendo a coluna sentiment\n",
        "df_en = df_en.drop('sentiment')\n",
        "df_pt = df_pt.drop('sentiment')\n",
        "\n",
        "df_en.show()\n",
        "df_pt.show()"
      ],
      "metadata": {
        "colab": {
          "base_uri": "https://localhost:8080/"
        },
        "id": "tC0C_jHYO7sc",
        "outputId": "bfd543fa-ded9-451b-d341-0669996f70c0"
      },
      "execution_count": null,
      "outputs": [
        {
          "output_type": "stream",
          "name": "stdout",
          "text": [
            "+---+--------------------+\n",
            "| id|             text_en|\n",
            "+---+--------------------+\n",
            "|  1|Once again Mr. Co...|\n",
            "|  2|This is an exampl...|\n",
            "|  3|First of all I ha...|\n",
            "|  4|Not even the Beat...|\n",
            "|  5|Brass pictures mo...|\n",
            "|  6|A funny thing hap...|\n",
            "|  7|This German horro...|\n",
            "|  8|Being a long-time...|\n",
            "|  9|\"Tokyo Eyes\" tell...|\n",
            "| 10|Wealthy horse ran...|\n",
            "| 11|Cage plays a drun...|\n",
            "| 12|First of all, I w...|\n",
            "| 13|So tell me - what...|\n",
            "| 14|A big disappointm...|\n",
            "| 15|This film is abso...|\n",
            "| 16|Heres a decidedly...|\n",
            "| 17|At the bottom end...|\n",
            "| 18|Earth has been de...|\n",
            "| 19|Many people are s...|\n",
            "| 20|New York family i...|\n",
            "+---+--------------------+\n",
            "only showing top 20 rows\n",
            "\n",
            "+---+--------------------+\n",
            "| id|             text_pt|\n",
            "+---+--------------------+\n",
            "|  1|Mais uma vez, o S...|\n",
            "|  2|Este é um exemplo...|\n",
            "|  3|Primeiro de tudo ...|\n",
            "|  4|Nem mesmo os Beat...|\n",
            "|  5|Filmes de fotos d...|\n",
            "|  6|Uma coisa engraça...|\n",
            "|  7|Este filme de ter...|\n",
            "|  8|Sendo um fã de lo...|\n",
            "|  9|\"Tokyo Eyes\" fala...|\n",
            "| 10|Fazendeiros ricos...|\n",
            "| 11|Cage interpreta u...|\n",
            "| 12|Primeiro de tudo,...|\n",
            "| 13|Então me diga - q...|\n",
            "| 14|Uma grande decepç...|\n",
            "| 15|Este filme é abso...|\n",
            "| 16|Heres um decidida...|\n",
            "| 17|Na parte inferior...|\n",
            "| 18|A terra foi destr...|\n",
            "| 19|Muitas pessoas es...|\n",
            "| 20|A família de Nova...|\n",
            "+---+--------------------+\n",
            "only showing top 20 rows\n",
            "\n"
          ]
        }
      ]
    },
    {
      "cell_type": "code",
      "source": [
        "# dividindo o texto em palavras com as funções explode e split\n",
        "palavras_pt = df_pt.select(\"id\", explode(split(\"text_pt\", \"[ ]+\")).alias(\"palavra\"))\n",
        "palavras_en = df_en.select(\"id\", explode(split(\"text_en\", \"[ ]+\")).alias(\"palavra\"))\n",
        "\n",
        "# Contar a ocorrencia de cada palavra de forma ordenada\n",
        "contagem_pt = palavras_pt.groupBy(\"palavra\").count().orderBy(desc(\"count\"))\n",
        "contagem_en = palavras_en.groupBy(\"palavra\").count().orderBy(desc(\"count\"))"
      ],
      "metadata": {
        "id": "uGZaJQRrP31W"
      },
      "execution_count": null,
      "outputs": []
    },
    {
      "cell_type": "code",
      "source": [
        "# Exibe resultado\n",
        "print(f\"Palavras em Português.\\nRU:{RU}\")\n",
        "contagem_pt.show()\n",
        "\n",
        "print(f\"Palavras em Inglês.\\nRU:{RU}\")\n",
        "contagem_en.show()"
      ],
      "metadata": {
        "colab": {
          "base_uri": "https://localhost:8080/"
        },
        "id": "4fMavhAmU4Ra",
        "outputId": "dcacd052-986a-4c86-8353-07ba0436bebc"
      },
      "execution_count": null,
      "outputs": [
        {
          "output_type": "stream",
          "name": "stdout",
          "text": [
            "Palavras em Português.\n",
            "RU:3357756\n",
            "+-------+------+\n",
            "|palavra| count|\n",
            "+-------+------+\n",
            "|     de|209113|\n",
            "|    que|167678|\n",
            "|      e|137200|\n",
            "|      o|123049|\n",
            "|     um|107492|\n",
            "|      a|102794|\n",
            "|      é| 93327|\n",
            "|    não| 73713|\n",
            "|    uma| 64633|\n",
            "|   para| 64105|\n",
            "|     em| 63829|\n",
            "|  filme| 61801|\n",
            "|     do| 49849|\n",
            "|    com| 48684|\n",
            "|     eu| 37822|\n",
            "|     se| 37108|\n",
            "|   como| 36659|\n",
            "|     os| 36428|\n",
            "|    mas| 33143|\n",
            "|    por| 31171|\n",
            "+-------+------+\n",
            "only showing top 20 rows\n",
            "\n",
            "Palavras em Inglês.\n",
            "RU:3357756\n",
            "+-------+------+\n",
            "|palavra| count|\n",
            "+-------+------+\n",
            "|    the|265718|\n",
            "|      a|145812|\n",
            "|    and|131834|\n",
            "|     of|128764|\n",
            "|     to|127790|\n",
            "|     is| 91404|\n",
            "|     in| 76328|\n",
            "|      I| 69703|\n",
            "|   that| 61670|\n",
            "|   this| 60545|\n",
            "|     it| 53013|\n",
            "|    was| 48979|\n",
            "|    for| 38483|\n",
            "|   with| 37810|\n",
            "|     as| 35494|\n",
            "|    The| 34522|\n",
            "|  movie| 33879|\n",
            "|    but| 32892|\n",
            "|     on| 29428|\n",
            "|   have| 28906|\n",
            "+-------+------+\n",
            "only showing top 20 rows\n",
            "\n"
          ]
        }
      ]
    },
    {
      "cell_type": "code",
      "source": [
        "#Soma dos valores\n",
        "contagem_pt.agg(sum(\"count\").alias(\"Total_palavras_pt\")).show()\n",
        "contagem_en.agg(sum(\"count\").alias(\"Total_palavras_en\")).show()"
      ],
      "metadata": {
        "colab": {
          "base_uri": "https://localhost:8080/"
        },
        "id": "0Nj1o6yIVQuC",
        "outputId": "16d08c38-876d-4e0e-c0e1-4486cccb187d"
      },
      "execution_count": null,
      "outputs": [
        {
          "output_type": "stream",
          "name": "stdout",
          "text": [
            "+-----------------+\n",
            "|Total_palavras_pt|\n",
            "+-----------------+\n",
            "|          5455273|\n",
            "+-----------------+\n",
            "\n",
            "+-----------------+\n",
            "|Total_palavras_en|\n",
            "+-----------------+\n",
            "|          5400276|\n",
            "+-----------------+\n",
            "\n"
          ]
        }
      ]
    },
    {
      "cell_type": "code",
      "source": [
        "# coletando os valores para efetuar a subtração\n",
        "tot_pt = contagem_pt.agg(sum(\"count\").alias(\"Total_palavras_pt\")).first()[0]\n",
        "tot_en = contagem_en.agg(sum(\"count\").alias(\"Total_palavras_en\")).first()[0]\n",
        "\n",
        "tot_pt, tot_en"
      ],
      "metadata": {
        "colab": {
          "base_uri": "https://localhost:8080/"
        },
        "id": "RC0KwN5gVqoj",
        "outputId": "6b62f5bc-8e69-428c-e613-4219e7fcf2ae"
      },
      "execution_count": null,
      "outputs": [
        {
          "output_type": "execute_result",
          "data": {
            "text/plain": [
              "(5455273, 5400276)"
            ]
          },
          "metadata": {},
          "execution_count": 66
        }
      ]
    },
    {
      "cell_type": "code",
      "source": [
        "# printando a resposta\n",
        "print(f'''O texto em português possui {tot_pt} palavras.\n",
        "\\nO Texto em inglês possui {tot_en} palavras.\n",
        "\\nLogo o texto em português possui {tot_pt - tot_en} palavras a mais queo texto em inglês.''')"
      ],
      "metadata": {
        "colab": {
          "base_uri": "https://localhost:8080/"
        },
        "id": "nZap-1rmWqus",
        "outputId": "c05b7c61-30dc-42d8-8d13-f5e45dd8ab62"
      },
      "execution_count": null,
      "outputs": [
        {
          "output_type": "stream",
          "name": "stdout",
          "text": [
            "O texto em português possui 5455273 palavras. \n",
            "\n",
            "O Texto em inglês possui 5400276 palavras.\n",
            "\n",
            "Logo o texto em português possui 54997 palavras a mais queo texto em inglês.\n"
          ]
        }
      ]
    },
    {
      "cell_type": "markdown",
      "source": [
        "#Logo o texto em português possui 54997 palavras a mais queo texto em inglês.\n"
      ],
      "metadata": {
        "id": "PmkPHUpPXdX2"
      }
    },
    {
      "cell_type": "code",
      "source": [],
      "metadata": {
        "id": "GwXOp2AvXeDN"
      },
      "execution_count": null,
      "outputs": []
    }
  ],
  "metadata": {
    "colab": {
      "provenance": [],
      "mount_file_id": "10apdnKN-HVYx9vL8imTmd73ym2pXChYH",
      "authorship_tag": "ABX9TyP7j4v4pEFzgyrsI1vC33oG",
      "include_colab_link": true
    },
    "kernelspec": {
      "display_name": "Python 3",
      "name": "python3"
    },
    "language_info": {
      "name": "python"
    }
  },
  "nbformat": 4,
  "nbformat_minor": 0
}